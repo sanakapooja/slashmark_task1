{
 "cells": [
  {
   "cell_type": "code",
   "execution_count": 1,
   "id": "6b9eb949-d36c-40d3-bcab-0c8c775251ae",
   "metadata": {},
   "outputs": [
    {
     "name": "stdout",
     "output_type": "stream",
     "text": [
      "Defaulting to user installation because normal site-packages is not writeable\n",
      "Requirement already satisfied: opencv-python in c:\\users\\hp\\appdata\\roaming\\python\\python312\\site-packages (4.11.0.86)\n",
      "Requirement already satisfied: numpy>=1.21.2 in c:\\programdata\\anaconda3\\lib\\site-packages (from opencv-python) (1.26.4)\n"
     ]
    }
   ],
   "source": [
    "!pip install opencv-python"
   ]
  },
  {
   "cell_type": "code",
   "execution_count": 2,
   "id": "72fb7a66-5806-4603-a2d1-5df50acc8a24",
   "metadata": {},
   "outputs": [
    {
     "name": "stdout",
     "output_type": "stream",
     "text": [
      "C:\\ProgramData\\anaconda3\\python.exe\n"
     ]
    }
   ],
   "source": [
    "import sys\n",
    "print(sys.executable)"
   ]
  },
  {
   "cell_type": "code",
   "execution_count": 3,
   "id": "d3763be5-6795-41b9-add7-b298db121705",
   "metadata": {},
   "outputs": [
    {
     "name": "stdout",
     "output_type": "stream",
     "text": [
      "Python Executable Path: C:\\ProgramData\\anaconda3\\python.exe\n",
      "Python Version: 3.12.7 | packaged by Anaconda, Inc. | (main, Oct  4 2024, 13:17:27) [MSC v.1929 64 bit (AMD64)]\n"
     ]
    }
   ],
   "source": [
    "import sys\n",
    "print(\"Python Executable Path:\", sys.executable)\n",
    "print(\"Python Version:\", sys.version)\n"
   ]
  },
  {
   "cell_type": "code",
   "execution_count": 4,
   "id": "78001eaa-61d4-4f77-8448-85cc8be60ace",
   "metadata": {},
   "outputs": [
    {
     "name": "stdout",
     "output_type": "stream",
     "text": [
      "4.11.0\n"
     ]
    }
   ],
   "source": [
    "import cv2\n",
    "print(cv2.__version__)\n"
   ]
  },
  {
   "cell_type": "code",
   "execution_count": null,
   "id": "d3dffb79-920c-466e-acd1-cfc370e7ad10",
   "metadata": {},
   "outputs": [],
   "source": [
    "import cv2\n",
    "import pandas as pd\n",
    "\n",
    "img_path = r'C:\\Users\\hp\\Downloads\\pic2 (1).jpg'\n",
    "csv_path = r'C:\\Users\\hp\\Downloads\\colors.csv'\n",
    "\n",
    "#  Read the CSV file\n",
    "index = ['color', 'color_name', 'hex', 'R', 'G', 'B']\n",
    "df = pd.read_csv(csv_path, names=index, header=None)\n",
    "\n",
    "#  Read and resize the image\n",
    "img = cv2.imread(img_path)\n",
    "img = cv2.resize(img, (800, 600))\n",
    "\n",
    "# Global variables\n",
    "clicked = False\n",
    "r = g = b = xpos = ypos = 0\n",
    "\n",
    "# Function to get the closest color name\n",
    "def get_color_name(R, G, B):\n",
    "    minimum = 1000\n",
    "    cname = \"Unknown\"\n",
    "    for i in range(len(df)):\n",
    "        d = abs(R - int(df.loc[i, 'R'])) + abs(G - int(df.loc[i, 'G'])) + abs(B - int(df.loc[i, 'B']))\n",
    "        if d <= minimum:\n",
    "            minimum = d\n",
    "            cname = df.loc[i, 'color_name']\n",
    "    return cname\n",
    "\n",
    "#  Mouse click callback function\n",
    "def draw_function(event, x, y, flags, params):\n",
    "    global b, g, r, xpos, ypos, clicked\n",
    "    if event == cv2.EVENT_LBUTTONDBLCLK:\n",
    "        clicked = True\n",
    "        xpos = x\n",
    "        ypos = y\n",
    "        b, g, r = img[y, x]\n",
    "        b = int(b)\n",
    "        g = int(g)\n",
    "        r = int(r)\n",
    "\n",
    "#  Create OpenCV window and set callback\n",
    "cv2.namedWindow('image')\n",
    "cv2.setMouseCallback('image', draw_function)\n",
    "\n",
    "# Main loop\n",
    "while True:\n",
    "    cv2.imshow('image', img)\n",
    "\n",
    "    if clicked:\n",
    "        # Draw rectangle and display color info\n",
    "        cv2.rectangle(img, (20, 20), (600, 60), (b, g, r), -1)\n",
    "        text = get_color_name(r, g, b) + f' R={r} G={g} B={b}'\n",
    "\n",
    "        # Decide text color based on brightness\n",
    "        text_color = (0, 0, 0) if r + g + b >= 600 else (255, 255, 255)\n",
    "\n",
    "        cv2.putText(img, text, (50, 50), 2, 0.8, text_color, 2, cv2.LINE_AA)\n",
    "\n",
    "    # Press 'Esc' key to exit\n",
    "    if cv2.waitKey(20) & 0xFF == 27:\n",
    "        break\n",
    "\n",
    "cv2.destroyAllWindows()"
   ]
  },
  {
   "cell_type": "code",
   "execution_count": null,
   "id": "0a7a2a3a-636f-4e45-a2fe-66235ee25c57",
   "metadata": {},
   "outputs": [],
   "source": []
  }
 ],
 "metadata": {
  "kernelspec": {
   "display_name": "Python 3 (ipykernel)",
   "language": "python",
   "name": "python3"
  },
  "language_info": {
   "codemirror_mode": {
    "name": "ipython",
    "version": 3
   },
   "file_extension": ".py",
   "mimetype": "text/x-python",
   "name": "python",
   "nbconvert_exporter": "python",
   "pygments_lexer": "ipython3",
   "version": "3.12.7"
  }
 },
 "nbformat": 4,
 "nbformat_minor": 5
}
